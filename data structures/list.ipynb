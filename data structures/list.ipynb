{
 "cells": [
  {
   "cell_type": "code",
   "execution_count": 16,
   "metadata": {},
   "outputs": [
    {
     "name": "stdout",
     "output_type": "stream",
     "text": [
      "['drive', 'chrome', 'swiggy', 'zomato', 'insta', 'linkedin', 'snapchat', 'uber', 'rapido', 'chalo']\n"
     ]
    }
   ],
   "source": [
    "apps = ['drive','chrome','swiggy','zomato','insta','linkedin','snapchat','uber','rapido','chalo']\n",
    "print(apps)"
   ]
  },
  {
   "cell_type": "code",
   "execution_count": 17,
   "metadata": {},
   "outputs": [
    {
     "name": "stdout",
     "output_type": "stream",
     "text": [
      "[4]\n"
     ]
    }
   ],
   "source": [
    "print([4])"
   ]
  },
  {
   "cell_type": "code",
   "execution_count": 18,
   "metadata": {},
   "outputs": [
    {
     "name": "stdout",
     "output_type": "stream",
     "text": [
      "['swiggy', 'zomato', 'insta', 'linkedin']\n",
      "['swiggy', 'insta', 'snapchat', 'rapido']\n",
      "['swiggy', 'zomato', 'insta', 'linkedin', 'snapchat', 'uber', 'rapido', 'chalo']\n",
      "['drive', 'chrome', 'swiggy', 'zomato', 'insta', 'linkedin']\n",
      "['drive', 'chrome', 'swiggy', 'zomato', 'insta', 'linkedin', 'snapchat', 'uber', 'rapido', 'chalo']\n"
     ]
    }
   ],
   "source": [
    "print(apps[2:6])\n",
    "print(apps[2:9:2])\n",
    "print(apps[2:])\n",
    "print(apps[:6])\n",
    "print(apps[:])"
   ]
  },
  {
   "cell_type": "markdown",
   "metadata": {},
   "source": [
    "List Methods\n",
    " - append - to add element at the end of the list\n",
    " - insert - to add an element at the specific position\n",
    " - pop - to delete an element using the index\n",
    " - remove - to delete an element using the element name\n",
    " - copy - to make a copy of the list\n",
    " - clear - to delete all items of the list but not the list\n",
    " - sort - to arrange the items in a particular order\n",
    " - extend - to combine two list into one list"
   ]
  },
  {
   "cell_type": "code",
   "execution_count": 19,
   "metadata": {},
   "outputs": [
    {
     "name": "stdout",
     "output_type": "stream",
     "text": [
      "['drive', 'chrome', 'swiggy', 'zomato', 'insta', 'linkedin', 'snapchat', 'uber', 'rapido', 'chalo', 'facebook']\n"
     ]
    }
   ],
   "source": [
    "apps.append(\"facebook\")\n",
    "print(apps)"
   ]
  },
  {
   "cell_type": "code",
   "execution_count": 20,
   "metadata": {},
   "outputs": [
    {
     "name": "stdout",
     "output_type": "stream",
     "text": [
      "['drive', 'chrome', 'gmail', 'swiggy', 'zomato', 'insta', 'linkedin', 'snapchat', 'uber', 'rapido', 'chalo', 'facebook']\n"
     ]
    }
   ],
   "source": [
    "apps.insert(2,\"gmail\")\n",
    "print(apps)"
   ]
  },
  {
   "cell_type": "code",
   "execution_count": 21,
   "metadata": {},
   "outputs": [
    {
     "name": "stdout",
     "output_type": "stream",
     "text": [
      "['drive', 'chrome', 'gmail', 'swiggy', 'zomato', 'insta', 'linkedin', 'uber', 'rapido', 'chalo', 'facebook']\n"
     ]
    }
   ],
   "source": [
    "apps.pop(7)\n",
    "print(apps)"
   ]
  },
  {
   "cell_type": "code",
   "execution_count": 22,
   "metadata": {},
   "outputs": [
    {
     "name": "stdout",
     "output_type": "stream",
     "text": [
      "['drive', 'chrome', 'gmail', 'swiggy', 'zomato', 'insta', 'linkedin', 'uber', 'rapido', 'facebook']\n"
     ]
    }
   ],
   "source": [
    "apps.remove(\"chalo\")\n",
    "print(apps)"
   ]
  },
  {
   "cell_type": "code",
   "execution_count": 23,
   "metadata": {},
   "outputs": [
    {
     "name": "stdout",
     "output_type": "stream",
     "text": [
      "['drive', 'chrome', 'gmail', 'swiggy', 'zomato', 'insta', 'linkedin', 'uber', 'rapido', 'facebook']\n"
     ]
    }
   ],
   "source": [
    "a = apps.copy()\n",
    "print(a)"
   ]
  },
  {
   "cell_type": "code",
   "execution_count": 24,
   "metadata": {},
   "outputs": [
    {
     "name": "stdout",
     "output_type": "stream",
     "text": [
      "[]\n"
     ]
    }
   ],
   "source": [
    "a.clear()\n",
    "print(a)"
   ]
  },
  {
   "cell_type": "code",
   "execution_count": 25,
   "metadata": {},
   "outputs": [
    {
     "name": "stdout",
     "output_type": "stream",
     "text": [
      "['chrome', 'drive', 'facebook', 'gmail', 'insta', 'linkedin', 'rapido', 'swiggy', 'uber', 'zomato']\n"
     ]
    }
   ],
   "source": [
    "apps.sort()\n",
    "print(apps)"
   ]
  },
  {
   "cell_type": "code",
   "execution_count": 26,
   "metadata": {},
   "outputs": [
    {
     "name": "stdout",
     "output_type": "stream",
     "text": [
      "['chrome', 'drive', 'facebook', 'gmail', 'insta', 'linkedin', 'rapido', 'swiggy', 'uber', 'zomato', 'watsap', 'snapchat']\n"
     ]
    }
   ],
   "source": [
    "apps2=['watsap','snapchat']\n",
    "apps.extend(apps2)\n",
    "print(apps)"
   ]
  },
  {
   "cell_type": "code",
   "execution_count": 27,
   "metadata": {},
   "outputs": [
    {
     "name": "stdout",
     "output_type": "stream",
     "text": [
      "['watsap', 'snapchat', 'chrome', 'drive', 'facebook', 'gmail', 'insta', 'linkedin', 'rapido', 'swiggy', 'uber', 'zomato', 'watsap', 'snapchat']\n"
     ]
    }
   ],
   "source": [
    "apps2.extend(apps)\n",
    "print(apps2)\n"
   ]
  },
  {
   "cell_type": "code",
   "execution_count": null,
   "metadata": {},
   "outputs": [],
   "source": []
  }
 ],
 "metadata": {
  "kernelspec": {
   "display_name": "base",
   "language": "python",
   "name": "python3"
  },
  "language_info": {
   "codemirror_mode": {
    "name": "ipython",
    "version": 3
   },
   "file_extension": ".py",
   "mimetype": "text/x-python",
   "name": "python",
   "nbconvert_exporter": "python",
   "pygments_lexer": "ipython3",
   "version": "3.12.3"
  }
 },
 "nbformat": 4,
 "nbformat_minor": 2
}
