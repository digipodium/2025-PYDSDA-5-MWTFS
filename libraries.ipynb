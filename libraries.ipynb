{
 "cells": [
  {
   "cell_type": "code",
   "execution_count": 1,
   "metadata": {},
   "outputs": [],
   "source": [
    "import math"
   ]
  },
  {
   "cell_type": "code",
   "execution_count": 8,
   "metadata": {},
   "outputs": [
    {
     "name": "stdout",
     "output_type": "stream",
     "text": [
      "4.47213595499958\n",
      "120\n",
      "3.141592653589793\n",
      "2.302585092994046\n",
      "10\n",
      "0.8939966636005579\n"
     ]
    }
   ],
   "source": [
    "print(math.sqrt(20))\n",
    "print(math.factorial(5))\n",
    "print(math.pi)\n",
    "print(math.log(10))\n",
    "print(math.gcd(10, 20))\n",
    "print(math.sin(90))"
   ]
  },
  {
   "cell_type": "code",
   "execution_count": 9,
   "metadata": {},
   "outputs": [],
   "source": [
    "from random import random, randint, choice, shuffle"
   ]
  },
  {
   "cell_type": "code",
   "execution_count": 26,
   "metadata": {},
   "outputs": [
    {
     "name": "stdout",
     "output_type": "stream",
     "text": [
      "get a random number between 0 and 1: 0.3193212676856306\n",
      "get a random number between 1 and 100: 28\n",
      "get a random number from a list: 3\n",
      "shuffle a list: ['John', 'Jill', 'Jane', 'Jack']\n"
     ]
    }
   ],
   "source": [
    "print('get a random number between 0 and 1:', random())\n",
    "print('get a random number between 1 and 100:', randint(20,30))\n",
    "print('get a random number from a list:', choice([1,2,3,4,5]))\n",
    "names = ['John', 'Jane', 'Jack', 'Jill']\n",
    "shuffle(names)\n",
    "print('shuffle a list:', names)"
   ]
  },
  {
   "cell_type": "code",
   "execution_count": 27,
   "metadata": {},
   "outputs": [],
   "source": [
    "from datetime import datetime as dt"
   ]
  },
  {
   "cell_type": "code",
   "execution_count": 28,
   "metadata": {},
   "outputs": [
    {
     "name": "stdout",
     "output_type": "stream",
     "text": [
      "Current date and time: 2025-03-05 17:45:35.287724\n"
     ]
    }
   ],
   "source": [
    "print('Current date and time:', dt.now())"
   ]
  },
  {
   "cell_type": "code",
   "execution_count": 30,
   "metadata": {},
   "outputs": [
    {
     "name": "stdout",
     "output_type": "stream",
     "text": [
      "Current year: 2025\n",
      "Current month: 3\n",
      "Current day: 5\n",
      "Current hour: 17\n",
      "Current minute: 47\n",
      "Current second: 12\n"
     ]
    }
   ],
   "source": [
    "print('Current year:', dt.now().year)\n",
    "print('Current month:', dt.now().month)\n",
    "print('Current day:', dt.now().day)\n",
    "print('Current hour:', dt.now().hour)\n",
    "print('Current minute:', dt.now().minute)\n",
    "print('Current second:', dt.now().second)"
   ]
  },
  {
   "cell_type": "code",
   "execution_count": 32,
   "metadata": {},
   "outputs": [
    {
     "name": "stdout",
     "output_type": "stream",
     "text": [
      "Current date: 2025-03-05\n",
      "Current time: 17:52:31.055078\n"
     ]
    }
   ],
   "source": [
    "print('Current date:', dt.now().date())\n",
    "print('Current time:', dt.now().time())"
   ]
  },
  {
   "cell_type": "code",
   "execution_count": 36,
   "metadata": {},
   "outputs": [
    {
     "name": "stdout",
     "output_type": "stream",
     "text": [
      "Crrent day name: Wednesday\n",
      "Crrent month name: March\n",
      "Crrent day name: Wed\n"
     ]
    }
   ],
   "source": [
    "print('Crrent day name:', dt.now().strftime('%A'))\n",
    "print('Crrent month name:', dt.now().strftime('%B'))\n",
    "print('Crrent day name:', dt.now().strftime('%a'))"
   ]
  },
  {
   "cell_type": "code",
   "execution_count": 37,
   "metadata": {},
   "outputs": [],
   "source": [
    "import os"
   ]
  },
  {
   "cell_type": "code",
   "execution_count": 38,
   "metadata": {},
   "outputs": [
    {
     "name": "stdout",
     "output_type": "stream",
     "text": [
      "Current working directory: c:\\Users\\LENOVO\\Documents\\2025-PYDSDA-5-MWTFS\n"
     ]
    }
   ],
   "source": [
    "print('Current working directory:', os.getcwd())"
   ]
  },
  {
   "cell_type": "code",
   "execution_count": 40,
   "metadata": {},
   "outputs": [
    {
     "name": "stdout",
     "output_type": "stream",
     "text": [
      "Files in current directory: ['.git', 'conditions.ipynb', 'data structures', 'datatypes.ipynb', 'functions.ipynb', 'libraries.ipynb', 'loops.ipynb', 'Operators.ipynb.ipynb']\n",
      "8 files found\n"
     ]
    }
   ],
   "source": [
    "files = os.listdir()\n",
    "print('Files in current directory:', files)\n",
    "print(len(files), 'files found')"
   ]
  },
  {
   "cell_type": "code",
   "execution_count": 41,
   "metadata": {},
   "outputs": [
    {
     "name": "stdout",
     "output_type": "stream",
     "text": [
      "Files in current directory: ['.git', 'Backend', 'basics.html', 'flex.html', 'frontend', 'grid.html', 'img.jpeg', 'package-lock.json', 'package.json', 'Section1', 'table.html']\n"
     ]
    }
   ],
   "source": [
    "files=os.listdir(r\"C:\\Users\\LENOVO\\Documents\\AUG-MERN-8\")\n",
    "print('Files in current directory:', files)"
   ]
  },
  {
   "cell_type": "code",
   "execution_count": 42,
   "metadata": {},
   "outputs": [
    {
     "name": "stdout",
     "output_type": "stream",
     "text": [
      "path -  C:\n",
      "folders -  ['.git', 'data structures']\n",
      "files -  ['conditions.ipynb', 'datatypes.ipynb', 'functions.ipynb', 'libraries.ipynb', 'loops.ipynb', 'Operators.ipynb.ipynb']\n",
      "path -  C:.git\n",
      "folders -  ['hooks', 'info', 'logs', 'objects', 'refs']\n",
      "files -  ['COMMIT_EDITMSG', 'config', 'description', 'FETCH_HEAD', 'HEAD', 'index']\n",
      "path -  C:.git\\hooks\n",
      "folders -  []\n",
      "files -  ['applypatch-msg.sample', 'commit-msg.sample', 'fsmonitor-watchman.sample', 'post-update.sample', 'pre-applypatch.sample', 'pre-commit.sample', 'pre-merge-commit.sample', 'pre-push.sample', 'pre-rebase.sample', 'pre-receive.sample', 'prepare-commit-msg.sample', 'push-to-checkout.sample', 'sendemail-validate.sample', 'update.sample']\n",
      "path -  C:.git\\info\n",
      "folders -  []\n",
      "files -  ['exclude']\n",
      "path -  C:.git\\logs\n",
      "folders -  ['refs']\n",
      "files -  ['HEAD']\n",
      "path -  C:.git\\logs\\refs\n",
      "folders -  ['heads', 'remotes']\n",
      "files -  []\n",
      "path -  C:.git\\logs\\refs\\heads\n",
      "folders -  []\n",
      "files -  ['main']\n",
      "path -  C:.git\\logs\\refs\\remotes\n",
      "folders -  ['origin']\n",
      "files -  []\n",
      "path -  C:.git\\logs\\refs\\remotes\\origin\n",
      "folders -  []\n",
      "files -  ['HEAD', 'main']\n",
      "path -  C:.git\\objects\n",
      "folders -  ['02', '22', '59', '60', '71', '75', '79', 'b3', 'db', 'f9', 'info', 'pack']\n",
      "files -  []\n",
      "path -  C:.git\\objects\\02\n",
      "folders -  []\n",
      "files -  ['28c2a897fc3d65bf72a915d8fce06fa934c242']\n",
      "path -  C:.git\\objects\\22\n",
      "folders -  []\n",
      "files -  ['fc6dc6fe1e996e74d34493b323787fac58cbe4']\n",
      "path -  C:.git\\objects\\59\n",
      "folders -  []\n",
      "files -  ['ce8115002cf2fed14de2ce335347fe472fca5b']\n",
      "path -  C:.git\\objects\\60\n",
      "folders -  []\n",
      "files -  ['b503fd1a676c542e0c082620438ae50073f7a1']\n",
      "path -  C:.git\\objects\\71\n",
      "folders -  []\n",
      "files -  ['96b3a13b0a6ce83b5d2fcad7735eb72d1c5434']\n",
      "path -  C:.git\\objects\\75\n",
      "folders -  []\n",
      "files -  ['67bbbe061ee132a6a27c1e7e2f19c7ff720a22']\n",
      "path -  C:.git\\objects\\79\n",
      "folders -  []\n",
      "files -  ['0ac36d13880db5e8eb826b44447d8fef2036be']\n",
      "path -  C:.git\\objects\\b3\n",
      "folders -  []\n",
      "files -  ['a65bb8f5fbab8ea1246c4c733dbb0812a8c23d']\n",
      "path -  C:.git\\objects\\db\n",
      "folders -  []\n",
      "files -  ['21a0542cea5b537fe49b6ef09ebedce1614ccb']\n",
      "path -  C:.git\\objects\\f9\n",
      "folders -  []\n",
      "files -  ['6155b50de7ac9518f25542a925d492127db935']\n",
      "path -  C:.git\\objects\\info\n",
      "folders -  []\n",
      "files -  []\n",
      "path -  C:.git\\objects\\pack\n",
      "folders -  []\n",
      "files -  []\n",
      "path -  C:.git\\refs\n",
      "folders -  ['heads', 'remotes', 'tags']\n",
      "files -  []\n",
      "path -  C:.git\\refs\\heads\n",
      "folders -  []\n",
      "files -  ['main']\n",
      "path -  C:.git\\refs\\remotes\n",
      "folders -  ['origin']\n",
      "files -  []\n",
      "path -  C:.git\\refs\\remotes\\origin\n",
      "folders -  []\n",
      "files -  ['HEAD', 'main']\n",
      "path -  C:.git\\refs\\tags\n",
      "folders -  []\n",
      "files -  []\n",
      "path -  C:data structures\n",
      "folders -  []\n",
      "files -  ['dictionary.ipynb', 'list.ipynb', 'string.ipynb']\n",
      "Total files found: 47\n"
     ]
    }
   ],
   "source": [
    "total_files = 0 \n",
    "for path, folders, files in os.walk('C:'):\n",
    "    print('path - ', path)\n",
    "    print('folders - ', folders)\n",
    "    print('files - ', files)\n",
    "    total_files += len(files)\n",
    "print('Total files found:', total_files)"
   ]
  },
  {
   "cell_type": "code",
   "execution_count": 44,
   "metadata": {},
   "outputs": [
    {
     "name": "stdout",
     "output_type": "stream",
     "text": [
      "File does not exist\n"
     ]
    }
   ],
   "source": [
    "file = r\"C:\\Users\\LENOVO\\Documents\\AUG-MERN\"\n",
    "if os.path.exists(file):\n",
    "    print('File exists')\n",
    "else:\n",
    "    print('File does not exist')"
   ]
  },
  {
   "cell_type": "code",
   "execution_count": 48,
   "metadata": {},
   "outputs": [
    {
     "name": "stdout",
     "output_type": "stream",
     "text": [
      "File exists\n",
      "Folder size: 4096 bytes\n",
      "Folder size: 4.0 KB\n",
      "Folder size: 0.00390625 MB\n",
      "Folder size: 3.814697265625e-06 GB\n"
     ]
    }
   ],
   "source": [
    "file = r\"C:\\Users\\LENOVO\\Documents\\AUG-MERN-8\"\n",
    "if os.path.exists(file):\n",
    "    print('File exists')\n",
    "    size = os.path.getsize(file)\n",
    "    print('Folder size:', size, 'bytes')\n",
    "    print('Folder size:', size/1024, 'KB')\n",
    "    print('Folder size:', size/1024/1024, 'MB')\n",
    "    print('Folder size:', size/1024/1024/1024, 'GB')"
   ]
  },
  {
   "cell_type": "code",
   "execution_count": null,
   "metadata": {},
   "outputs": [],
   "source": []
  }
 ],
 "metadata": {
  "kernelspec": {
   "display_name": "base",
   "language": "python",
   "name": "python3"
  },
  "language_info": {
   "codemirror_mode": {
    "name": "ipython",
    "version": 3
   },
   "file_extension": ".py",
   "mimetype": "text/x-python",
   "name": "python",
   "nbconvert_exporter": "python",
   "pygments_lexer": "ipython3",
   "version": "3.12.3"
  }
 },
 "nbformat": 4,
 "nbformat_minor": 2
}
