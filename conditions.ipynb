{
 "cells": [
  {
   "cell_type": "code",
   "execution_count": 1,
   "metadata": {},
   "outputs": [
    {
     "name": "stdout",
     "output_type": "stream",
     "text": [
      "A\n",
      "B\n"
     ]
    }
   ],
   "source": [
    "marks = 87\n",
    "if marks >= 90:\n",
    "    print('A+')\n",
    "if marks >= 75:\n",
    "    print('A')\n",
    "if marks >= 60:\n",
    "    print('B')\n",
    "if marks < 60:\n",
    "    print('Fail')"
   ]
  },
  {
   "cell_type": "code",
   "execution_count": 2,
   "metadata": {},
   "outputs": [
    {
     "name": "stdout",
     "output_type": "stream",
     "text": [
      "A\n"
     ]
    }
   ],
   "source": [
    "marks = 87\n",
    "if marks >= 90:\n",
    "    print('A+')\n",
    "elif marks >= 75:\n",
    "    print('A')\n",
    "elif marks >= 60:\n",
    "    print('B')\n",
    "elif marks < 60:\n",
    "    print('Fail')\n",
    "else:\n",
    "    print('Invalid marks')"
   ]
  },
  {
   "cell_type": "code",
   "execution_count": 3,
   "metadata": {},
   "outputs": [
    {
     "name": "stdout",
     "output_type": "stream",
     "text": [
      "Elligible to vote\n"
     ]
    }
   ],
   "source": [
    "age = 23\n",
    "if age >= 18:\n",
    "    print(\"Elligible to vote\")\n",
    "else:\n",
    "    print(\"Not elligible to vote\")"
   ]
  },
  {
   "cell_type": "markdown",
   "metadata": {},
   "source": [
    "- to check whether a number is positive or not\n",
    "- to check whether a number is even or odd\n",
    "- to check whether the two line segments are equal or not\n",
    "- to check whether a triangle is equilateral, iscoseles, or scalene. print the\n",
    "message accordingly\n",
    "- to check whether a character entered by user is a vowel or not\n",
    "-  take a basic salary of an employee from user where TDA is 10% and HRA is\n",
    "5%, Calculate the net salary of an employee\n",
    "- calculate an area of a circle\n",
    "- to check whether a number is a prime number\n",
    "- to check whwther a number is pallindrome\n",
    "- to check whether a number is an armstrong number"
   ]
  },
  {
   "cell_type": "code",
   "execution_count": null,
   "metadata": {},
   "outputs": [],
   "source": [
    "username = input(\"Enter the username:\")\n",
    "email = input(\"Enter the email\")\n",
    "password = input(\"Enter the password\")\n",
    "cpass = input('Re-enter the password')\n",
    "if len(username)>5 and len(username)<15:\n",
    "    if '@' in email and len(email)>10:\n",
    "        if len(password)>5 and len(password)<=10:\n",
    "            if password == cpass:\n",
    "                print(\"Hurray! Registered Successfully\")\n",
    "            else:\n",
    "                print(\"Password mismatch\")\n",
    "        else:\n",
    "            print(\"Incorrect Password\")\n",
    "    else:\n",
    "        print(\"Invalid Email\")\n",
    "else:   \n",
    "    print(\"Invalid Username\")"
   ]
  },
  {
   "cell_type": "code",
   "execution_count": 1,
   "metadata": {},
   "outputs": [
    {
     "name": "stdout",
     "output_type": "stream",
     "text": [
      "Consonant\n"
     ]
    }
   ],
   "source": [
    "char = input(\"Enter the character:\")\n",
    "if char=='a' or char=='e' or char=='i' or char=='o' or char=='u':\n",
    "    print(\"Vowel\")\n",
    "else:\n",
    "    print(\"Consonant\")"
   ]
  },
  {
   "cell_type": "code",
   "execution_count": 2,
   "metadata": {},
   "outputs": [
    {
     "name": "stdout",
     "output_type": "stream",
     "text": [
      "Consonant\n"
     ]
    }
   ],
   "source": [
    "char = input(\"Enter the character:\")\n",
    "if char in 'aeiou':\n",
    "    print(\"Vowel\")\n",
    "else:\n",
    "    print(\"Consonant\")\n"
   ]
  },
  {
   "cell_type": "code",
   "execution_count": null,
   "metadata": {},
   "outputs": [],
   "source": []
  }
 ],
 "metadata": {
  "kernelspec": {
   "display_name": "base",
   "language": "python",
   "name": "python3"
  },
  "language_info": {
   "codemirror_mode": {
    "name": "ipython",
    "version": 3
   },
   "file_extension": ".py",
   "mimetype": "text/x-python",
   "name": "python",
   "nbconvert_exporter": "python",
   "pygments_lexer": "ipython3",
   "version": "3.12.3"
  }
 },
 "nbformat": 4,
 "nbformat_minor": 2
}
